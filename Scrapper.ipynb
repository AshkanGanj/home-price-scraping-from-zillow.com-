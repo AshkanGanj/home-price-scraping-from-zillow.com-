{
 "cells": [
  {
   "cell_type": "code",
   "execution_count": 2,
   "id": "44460736",
   "metadata": {},
   "outputs": [],
   "source": [
    "import csv\n",
    "from datetime import datetime\n",
    "import requests\n",
    "from bs4 import BeautifulSoup\n",
    "from selenium import webdriver"
   ]
  },
  {
   "cell_type": "code",
   "execution_count": 8,
   "metadata": {},
   "outputs": [],
   "source": [
    "browser = webdriver.Firefox(executable_path=\"./geckodriver\")"
   ]
  },
  {
   "cell_type": "code",
   "execution_count": 9,
   "metadata": {},
   "outputs": [],
   "source": [
    "def get_url(page):\n",
    "    template = 'https://www.zillow.com/homes/New-York,-NY_rb/{}_p'\n",
    "    url = template.format(page)\n",
    "    return url"
   ]
  },
  {
   "cell_type": "code",
   "execution_count": 10,
   "id": "80ef453e",
   "metadata": {},
   "outputs": [],
   "source": [
    "url = get_url(1)\n",
    "browser.get(url)\n",
    "soup = BeautifulSoup(browser.page_source, 'html.parser')"
   ]
  },
  {
   "cell_type": "code",
   "execution_count": 14,
   "metadata": {},
   "outputs": [],
   "source": [
    "results = soup.find_all('div', {\"class\": \"list-card-info\"})"
   ]
  },
  {
   "cell_type": "code",
   "execution_count": 44,
   "metadata": {},
   "outputs": [
    {
     "name": "stdout",
     "output_type": "stream",
     "text": [
      "['6', '6', '-', '-']\n"
     ]
    }
   ],
   "source": [
    "result = results[0]\n",
    "temp = []\n",
    "ul = result.find('ul','list-card-details')\n",
    "for li in ul.findAll('li'):\n",
    "    temp.append(li.text.strip(' ')[0])\n",
    "print(temp)"
   ]
  },
  {
   "cell_type": "code",
   "execution_count": 42,
   "metadata": {},
   "outputs": [],
   "source": [
    "def get_record(result):\n",
    "    try:\n",
    "        price = result.find('div','list-card-price').text\n",
    "    except:\n",
    "        price = \"NAN\"\n",
    "\n",
    "    temp = []\n",
    "\n",
    "    ul = result.find('ul','list-card-details')\n",
    "    for li in ul.findAll('li'):\n",
    "        temp.append(li.text.strip(' ')[0])\n",
    "\n",
    "    numberOfBedroom = temp[0]\n",
    "    numberOfBath = temp[1]\n",
    "    size = temp[2]\n",
    "    homeType = temp[3]\n",
    "\n",
    "    # try:\n",
    "    #     numberOfBedroom = result.find('div','stats').text.split(' ')[0]\n",
    "    # except:\n",
    "    #     numberOfBedroom = 'NAN'\n",
    "    # try:\n",
    "    #     numberOfBath = result.find_next('div','stats').find_next('div','stats').text.split(' ')[0]\n",
    "    # except:\n",
    "    #     numberOfBath = 'NAN'\n",
    "    # try:\n",
    "    #     size = int(result.find_next('div','stats').find_next('div','stats').find_next('div','stats').text.split(' ')[0])\n",
    "    #     print(size)\n",
    "    # except:\n",
    "    #     size = \"NAN\"\n",
    "    try:\n",
    "        address = result.find('address').text\n",
    "    except:\n",
    "        address = 'NAN'\n",
    "\n",
    "    try:\n",
    "        date = result.find('div', 'topleft').text\n",
    "    except:\n",
    "        date = 'NAN'\n",
    "\n",
    "    today = datetime.today().strftime('%Y-%m-%d')\n",
    "    record = (price,numberOfBedroom, numberOfBath, size ,homeType, address, date, today)\n",
    "    \n",
    "    return record"
   ]
  },
  {
   "cell_type": "code",
   "execution_count": 77,
   "metadata": {},
   "outputs": [],
   "source": [
    "records = []\n",
    "\n",
    "for result in results:\n",
    "    records.append(get_record(result))"
   ]
  },
  {
   "cell_type": "code",
   "execution_count": 79,
   "metadata": {},
   "outputs": [
    {
     "data": {
      "text/plain": [
       "('$1,280,000',\n",
       " '6',\n",
       " '8.5',\n",
       " '—Sq.',\n",
       " '96-06 34 Ave, Corona, NY 11368',\n",
       " 'NEW 14 HRS AGO',\n",
       " '2021-10-19')"
      ]
     },
     "execution_count": 79,
     "metadata": {},
     "output_type": "execute_result"
    }
   ],
   "source": [
    "records[0]"
   ]
  },
  {
   "cell_type": "code",
   "execution_count": null,
   "metadata": {},
   "outputs": [],
   "source": []
  }
 ],
 "metadata": {
  "interpreter": {
   "hash": "843e698fcfe4b9fc732b84aa0fa89b2725db7c830ed767025473ec87be5908d9"
  },
  "kernelspec": {
   "display_name": "Python 3.8.8 64-bit ('base': conda)",
   "name": "python3"
  },
  "language_info": {
   "codemirror_mode": {
    "name": "ipython",
    "version": 3
   },
   "file_extension": ".py",
   "mimetype": "text/x-python",
   "name": "python",
   "nbconvert_exporter": "python",
   "pygments_lexer": "ipython3",
   "version": "3.8.8"
  }
 },
 "nbformat": 4,
 "nbformat_minor": 5
}
